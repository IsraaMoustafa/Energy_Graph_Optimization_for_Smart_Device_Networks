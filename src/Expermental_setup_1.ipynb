{
 "cells": [
  {
   "cell_type": "code",
   "execution_count": 2,
   "metadata": {},
   "outputs": [],
   "source": [
    "#import necessary libraries\n",
    "import sys\n",
    "import random\n",
    "from tqdm import tqdm\n",
    "import matplotlib.pyplot as plt\n",
    "import time"
   ]
  },
  {
   "cell_type": "code",
   "execution_count": 4,
   "metadata": {},
   "outputs": [],
   "source": [
    "#implement the class Graph \n",
    "class Graph(object):\n",
    "    def __init__(self, nodes, init_graph):\n",
    "        self.nodes = nodes\n",
    "        self.graph = self.construct_graph(nodes, init_graph)\n",
    "        \n",
    "    def construct_graph(self, nodes, init_graph):\n",
    "\n",
    "        graph = {}\n",
    "        for node in nodes:\n",
    "            graph[node] = {}\n",
    "        \n",
    "        graph.update(init_graph)\n",
    "        \n",
    "        for node, edges in graph.items():\n",
    "            for adjacent_node, value in edges.items():\n",
    "                if graph[adjacent_node].get(node, False) == False:\n",
    "                    graph[adjacent_node][node] = value\n",
    "                    \n",
    "        return graph\n",
    "    def get_nodes(self):\n",
    "        \"Returns the nodes of the graph.\"\n",
    "        return self.nodes\n",
    "    \n",
    "    def get_outgoing_edges(self, node):\n",
    "        \"Returns the neighbors of a node.\"\n",
    "        connections = []\n",
    "        for out_node in self.nodes:\n",
    "            if self.graph[node].get(out_node, False) != False:\n",
    "                connections.append(out_node)\n",
    "        return connections\n",
    "    \n",
    "    def value(self, node1, node2):\n",
    "        \"Returns the value of an edge between two nodes.\"\n",
    "        return self.graph[node1][node2]    "
   ]
  },
  {
   "cell_type": "code",
   "execution_count": 6,
   "metadata": {},
   "outputs": [],
   "source": [
    "def dijkstra_algorithm(graph, start_node):\n",
    "    unvisited_nodes = list(graph.get_nodes())\n",
    " \n",
    "    # We'll use this dict to save the cost of visiting each node and update it as we move along the graph   \n",
    "    shortest_path = {}\n",
    " \n",
    "    # We'll use this dict to save the shortest known path to a node found so far\n",
    "    previous_nodes = {}\n",
    " \n",
    "    # We'll use max_value to initialize the \"infinity\" value of the unvisited nodes   \n",
    "    max_value = sys.maxsize\n",
    "    for node in unvisited_nodes:\n",
    "        shortest_path[node] = max_value\n",
    "    # However, we initialize the starting node's value with 0   \n",
    "    shortest_path[start_node] = 0\n",
    "    \n",
    "    # The algorithm executes until we visit all nodes\n",
    "    while unvisited_nodes:\n",
    "        # The code block below finds the node with the lowest score\n",
    "        current_min_node = None\n",
    "        for node in unvisited_nodes: # Iterate over the nodes\n",
    "            if current_min_node == None:\n",
    "                current_min_node = node\n",
    "            elif shortest_path[node] < shortest_path[current_min_node]:\n",
    "                current_min_node = node\n",
    "               \n",
    "        # The code block below retrieves the current node's neighbors and updates their distances\n",
    "        neighbors = graph.get_outgoing_edges(current_min_node)\n",
    "        for neighbor in neighbors:\n",
    "            tentative_value = shortest_path[current_min_node] + graph.value(current_min_node, neighbor)\n",
    "            if tentative_value < shortest_path[neighbor]:\n",
    "                shortest_path[neighbor] = tentative_value\n",
    "                # We also update the best path to the current node\n",
    "                previous_nodes[neighbor] = current_min_node\n",
    " \n",
    "        # After visiting its neighbors, we mark the node as \"visited\"\n",
    "        unvisited_nodes.remove(current_min_node)\n",
    "    \n",
    "    return previous_nodes, shortest_path\n",
    "\n",
    "\n",
    "\n",
    "def print_result(previous_nodes, shortest_path, start_node, target_node):\n",
    "    path = []\n",
    "    node = target_node\n",
    "    \n",
    "    while node != start_node:\n",
    "        \n",
    "        path.append(node)\n",
    "        node = previous_nodes[node]\n",
    " \n",
    "    # Add the start node manually\n",
    "    path.append(start_node)\n",
    "    \n",
    "    print(\"We found the following best path with a value of {}.\".format(shortest_path[target_node]))\n",
    "    print(\"The path is: {}\".format(path[::-1]))\n",
    "    "
   ]
  },
  {
   "cell_type": "code",
   "execution_count": 27,
   "metadata": {},
   "outputs": [],
   "source": [
    "#create D SDUP algorithm function\n",
    "def D_SDUP(graph, S, c):\n",
    "    L= {v: 0 for v in S}    \n",
    "        # make map of arraies for each subtree nodes\n",
    "    T = {v: [] for v in S}\n",
    "        #add the node to the all subtree\n",
    "    for v in S:\n",
    "        # add the node to the subtree [ node, in tree,mother node, cost]\n",
    "        T[v].append([v,1,0,0])\n",
    "        L[v] = 1\n",
    "    # make set of DC nodes not in any subtree\n",
    "    nodes = graph.get_nodes()\n",
    "    D = set(nodes) - set(S)\n",
    "    # while D is not empty\n",
    "    while D:\n",
    "        # Randomly pick a node from D\n",
    "        target_node = random.choice(list(D))\n",
    "        # Find the shortest path from p1 to any node in subtrees with size less than c(v)\n",
    "        path_min = []\n",
    "        path = []\n",
    "   \n",
    "        for v in S :\n",
    "            if (L[v] < c[v]):\n",
    "                for u in T[v]:\n",
    "                    \n",
    "                    start_node = u[0]\n",
    "                    \n",
    "                    previous_nodes, shortest_path = dijkstra_algorithm(graph=graph, start_node=start_node)\n",
    "                    node = target_node\n",
    "                    if node in previous_nodes:\n",
    "                        path = []\n",
    "                        while node != start_node:\n",
    "                            path.append(node)\n",
    "                            node = previous_nodes[node]\n",
    "\n",
    "                        # Add the start node manually\n",
    "                        path.append(start_node)\n",
    "                        if path_min == []:\n",
    "                            path_min = path[::-1]\n",
    "                            path_min_length= shortest_path[target_node]\n",
    "                            tree=v\n",
    "                        elif path_min_length > shortest_path[target_node]:\n",
    "                            path_min = path[::-1]\n",
    "                            path_min_length= shortest_path[target_node]\n",
    "                            tree=v  \n",
    "        if path_min == []:\n",
    "            print(T)\n",
    "            print(D)\n",
    "            print(target_node)\n",
    "            print(graph.get_outgoing_edges(target_node))\n",
    "            \n",
    "\n",
    "        # Check the condition for adding nodes to the subtree\n",
    "\n",
    "        if len(set(path_min) & D) <= c[tree] - L[tree] :\n",
    "            # Add P into Tj and remove nodes of P from D\n",
    "            previous_node = path_min[0]\n",
    "            for node in path_min[1:]:\n",
    "                #if node is in D\n",
    "                if node in D:\n",
    "                    node_in_tree = 1\n",
    "                    L[tree] += 1\n",
    "                else:\n",
    "                    node_in_tree = 0\n",
    "                T[tree].append([node,node_in_tree,previous_node,graph.value(node, previous_node) ])\n",
    "                previous_node = node\n",
    "\n",
    "            D -= set(path_min)\n",
    "        else:\n",
    "\n",
    "            # Find pq in D such that the condition is satisfied\n",
    "            previous_node = path_min[0]\n",
    "            i=1\n",
    "            while c[tree] > L[tree] :\n",
    "\n",
    "                node=path_min[i]\n",
    "                if node in D:\n",
    "                    node_in_tree = 1\n",
    "                    L[tree] += 1\n",
    "                    D -= set([node])\n",
    "                else:\n",
    "                    node_in_tree = 0   \n",
    "                T[tree].append([node,node_in_tree,previous_node,graph.value(node, previous_node) ])\n",
    "                previous_node = node\n",
    "                i=i+1\n",
    "\n",
    "    return T  \n",
    "          \n",
    "def print_subtrees(T,S):\n",
    "    Total_cost = 0\n",
    "    for v in S:\n",
    "        List = []\n",
    "        Sum=0\n",
    "        lenght=0\n",
    "        for u in T[v]:\n",
    "            if (u[1] == 1):\n",
    "                List.append(u[0])\n",
    "            Sum= Sum + u[3]\n",
    "            lenght= lenght + u[1]\n",
    "        Total_cost = Total_cost + Sum\n",
    "        print (\"Subtree from node\",v,\"with capacity\",lenght ,\":\", List , \"--> cost = \", Sum )  \n",
    "    print(\"Total cost:\", Total_cost) \n",
    "\n",
    "def total_cost(T,S):\n",
    "    Total_cost = 0\n",
    "    for v in S:\n",
    "        for u in T[v]:\n",
    "            Total_cost = Total_cost + u[3]\n",
    "    return Total_cost    \n"
   ]
  },
  {
   "cell_type": "code",
   "execution_count": 14,
   "metadata": {},
   "outputs": [],
   "source": [
    "#create P SDUP algorithm function\n",
    "def P_SDUP(graph, S, c):\n",
    "    L= {v: 0 for v in S}    \n",
    "        # make map of arraies for each subtree nodes\n",
    "    T = {v: [] for v in S}\n",
    "        #add the node to the all subtree\n",
    "    for v in S:\n",
    "        # add the node to the subtree [ node, in tree,mother node, cost]\n",
    "        T[v].append([v,1,0,0])\n",
    "        L[v] = 1\n",
    "    # make set of DC nodes not in any subtree\n",
    "    nodes = graph.get_nodes()\n",
    "    D = set(nodes) - set(S)\n",
    "    # while D is not empty and there is no neighbor in D to any subtree with size less than c(v)\n",
    "    \n",
    "    while D and any(L[v] < c[v] for v in S) and any(any(L[v] < c[v] and len(set(graph.get_outgoing_edges(u[0])) & D) > 0 for u in T[v]) for v in S):\n",
    "        # Find an edge (u, w) with minimum weight in graph such that u is in Tj, w is in D, and c[vj] - |Tj| > 0\n",
    "        min_edge = None\n",
    "        min_weight = float('inf')\n",
    "        target_tree = None\n",
    "\n",
    "        for v in S:\n",
    "            if L[v] < c[v]:\n",
    "                for u in T[v]:\n",
    "                    \n",
    "                    for w in graph.get_outgoing_edges(u[0]):\n",
    "                        if w in D and graph.value(u[0], w) < min_weight:\n",
    "                            min_edge = (u[0], w)\n",
    "                            min_weight = graph.value(u[0], w)\n",
    "                            target_tree = v\n",
    "\n",
    "        # If we found a suitable edge, add it to the target tree and remove the node from D\n",
    "        if min_edge is not None:\n",
    "            u, w = min_edge\n",
    "            T[target_tree].append([w, 1, u, graph.value(u, w)])\n",
    "            L[target_tree] += 1\n",
    "            D.remove(w)\n",
    "\n",
    "        \n",
    "    while D:\n",
    "        # Randomly pick a node from D\n",
    "        target_node = random.choice(list(D))\n",
    "        # Find the shortest path from p1 to any node in subtrees with size less than c(v)\n",
    "        path_min = []\n",
    "        path = []\n",
    "        \n",
    "        for v in S :\n",
    "            if (L[v] < c[v]):\n",
    "                for u in T[v]:\n",
    "                    if u[1] == 1:\n",
    "                        start_node = u[0]\n",
    "                        \n",
    "                        previous_nodes, shortest_path = dijkstra_algorithm(graph=graph, start_node=start_node)\n",
    "                        node = target_node\n",
    "                        if node in previous_nodes:\n",
    "                            path = []\n",
    "                            while node != start_node:\n",
    "                                path.append(node)\n",
    "                                node = previous_nodes[node]\n",
    "\n",
    "\n",
    "                            # Add the start node manually\n",
    "                            path.append(start_node)\n",
    "                            if path_min == []:\n",
    "                                path_min = path[::-1]\n",
    "                                path_min_length= shortest_path[target_node]\n",
    "                                tree=v\n",
    "                            elif path_min_length > shortest_path[target_node]:\n",
    "                                path_min = path[::-1]\n",
    "                                path_min_length= shortest_path[target_node]\n",
    "                                tree=v \n",
    "                        \n",
    "    \n",
    "            \n",
    "        # Check the condition for adding nodes to the subtree\n",
    "        if len(set(path_min) & D) <= c[tree] - L[tree] :\n",
    "            # Add P into Tj and remove nodes of P from D\n",
    "            previous_node = path_min[0]\n",
    "            for node in path_min[1:]:\n",
    "                #if node is in D\n",
    "                if node in D:\n",
    "                    node_in_tree = 1\n",
    "                    L[tree] += 1\n",
    "                else:\n",
    "                    node_in_tree = 0\n",
    "                T[tree].append([node,node_in_tree,previous_node,graph.value(node, previous_node) ])\n",
    "                previous_node = node\n",
    "\n",
    "            D -= set(path_min)\n",
    "        else:\n",
    "            # Find pq in D such that the condition is satisfied\n",
    "            previous_node = path_min[0]\n",
    "            i=1\n",
    "            while c[tree] > L[tree] :\n",
    "\n",
    "                node=path_min[i]\n",
    "                if node in D:\n",
    "                    node_in_tree = 1\n",
    "                    L[tree] += 1\n",
    "                    D -= set([node])\n",
    "                else:\n",
    "                    node_in_tree = 0   \n",
    "                T[tree].append([node,node_in_tree,previous_node,graph.value(node, previous_node) ])\n",
    "                previous_node = node\n",
    "                i=i+1\n",
    "\n",
    "    return T  \n",
    "          \n",
    "\n"
   ]
  },
  {
   "cell_type": "code",
   "execution_count": 10,
   "metadata": {},
   "outputs": [
    {
     "name": "stdout",
     "output_type": "stream",
     "text": [
      "{40: 10, 6: 10, 28: 10, 32: 10, 29: 10}\n",
      "{1: {3: 50, 4: 4, 5: 57, 7: 3, 8: 18, 10: 37, 11: 98, 12: 2, 13: 8, 14: 12, 15: 82, 16: 89, 17: 42, 18: 51, 19: 1, 20: 81, 21: 52, 22: 67, 23: 81, 24: 101, 25: 78, 26: 91, 28: 76, 30: 41, 31: 18, 32: 80, 33: 72, 34: 57, 36: 57, 37: 47, 38: 24, 40: 67, 43: 96, 44: 7, 45: 69, 46: 16, 47: 35, 49: 52, 50: 61}, 2: {3: 76, 4: 5, 5: 16, 7: 70, 8: 32, 10: 65, 11: 70, 12: 84, 13: 44, 15: 6, 17: 101, 18: 86, 19: 78, 20: 51, 22: 29, 23: 35, 24: 59, 25: 23, 26: 18, 27: 89, 28: 8, 29: 56, 31: 34, 32: 27, 33: 56, 34: 83, 35: 34, 37: 52, 38: 69, 39: 80, 40: 85, 41: 61, 42: 65, 43: 81, 44: 68, 45: 15, 46: 56, 47: 91, 48: 16, 49: 81}, 3: {4: 51, 5: 98, 6: 10, 7: 38, 9: 49, 10: 19, 12: 35, 13: 39, 14: 49, 15: 100, 17: 71, 18: 50, 20: 67, 21: 90, 22: 49, 25: 51, 26: 53, 27: 17, 28: 63, 29: 64, 30: 34, 31: 101, 33: 99, 35: 101, 36: 67, 37: 37, 38: 82, 39: 65, 41: 95, 42: 17, 43: 11, 45: 12, 46: 7, 48: 90, 49: 59, 50: 69, 1: 50, 2: 76}, 4: {5: 72, 6: 37, 7: 67, 8: 30, 9: 58, 10: 11, 11: 38, 12: 3, 13: 49, 14: 99, 15: 18, 16: 24, 17: 85, 19: 2, 20: 98, 23: 60, 25: 39, 27: 37, 28: 62, 29: 94, 30: 86, 31: 26, 32: 17, 33: 16, 34: 43, 35: 58, 36: 9, 37: 71, 38: 91, 40: 21, 41: 97, 43: 21, 44: 61, 46: 9, 47: 20, 48: 28, 49: 93, 50: 35, 1: 4, 2: 5, 3: 51}, 5: {6: 100, 7: 44, 8: 78, 9: 18, 11: 99, 12: 25, 13: 73, 14: 40, 15: 16, 17: 87, 19: 52, 21: 9, 22: 64, 23: 13, 24: 62, 25: 93, 28: 92, 31: 42, 32: 78, 33: 100, 34: 31, 35: 11, 38: 64, 39: 88, 40: 81, 41: 86, 42: 13, 45: 46, 46: 37, 47: 50, 48: 68, 1: 57, 2: 16, 3: 98, 4: 72}, 6: {7: 21, 8: 5, 11: 47, 13: 78, 15: 67, 16: 88, 17: 3, 18: 32, 19: 33, 21: 46, 22: 16, 23: 77, 26: 8, 27: 82, 30: 62, 32: 38, 33: 2, 34: 63, 36: 67, 37: 92, 39: 41, 40: 75, 43: 92, 44: 2, 46: 12, 47: 63, 48: 9, 3: 10, 4: 37, 5: 100}, 7: {8: 33, 9: 14, 10: 58, 11: 2, 12: 33, 13: 30, 14: 2, 15: 48, 16: 92, 17: 24, 18: 73, 19: 99, 20: 46, 21: 7, 22: 23, 24: 3, 25: 19, 26: 5, 28: 100, 30: 87, 31: 23, 32: 90, 33: 92, 34: 21, 35: 68, 37: 80, 39: 9, 42: 54, 43: 34, 44: 6, 45: 9, 46: 31, 47: 8, 48: 45, 49: 81, 50: 17, 1: 3, 2: 70, 3: 38, 4: 67, 5: 44, 6: 21}, 8: {9: 60, 11: 76, 12: 48, 13: 56, 14: 30, 15: 5, 17: 37, 18: 91, 19: 82, 20: 51, 22: 19, 24: 27, 25: 98, 26: 53, 27: 92, 28: 36, 29: 61, 30: 21, 31: 49, 32: 70, 34: 85, 35: 39, 36: 71, 37: 20, 38: 15, 39: 96, 40: 96, 41: 67, 43: 52, 44: 98, 45: 88, 46: 37, 47: 25, 48: 70, 49: 21, 50: 78, 1: 18, 2: 32, 4: 30, 5: 78, 6: 5, 7: 33}, 9: {10: 31, 11: 72, 12: 79, 13: 17, 14: 45, 15: 71, 16: 79, 18: 7, 19: 3, 20: 7, 21: 63, 22: 65, 25: 37, 26: 87, 27: 99, 28: 25, 30: 98, 32: 25, 33: 41, 34: 92, 36: 59, 37: 6, 38: 34, 39: 29, 42: 49, 43: 45, 44: 86, 45: 100, 46: 21, 47: 2, 49: 8, 50: 37, 3: 49, 4: 58, 5: 18, 7: 14, 8: 60}, 10: {11: 23, 12: 49, 13: 57, 14: 74, 16: 61, 18: 6, 22: 63, 23: 54, 24: 76, 25: 51, 26: 86, 27: 27, 28: 37, 29: 67, 30: 74, 32: 20, 33: 2, 34: 40, 36: 7, 37: 32, 40: 97, 42: 36, 43: 61, 44: 21, 46: 91, 47: 57, 49: 27, 50: 81, 1: 37, 2: 65, 3: 19, 4: 11, 7: 58, 9: 31}, 11: {12: 12, 15: 48, 16: 7, 17: 75, 19: 2, 20: 43, 22: 99, 24: 55, 25: 54, 26: 71, 27: 33, 28: 84, 29: 45, 31: 22, 32: 75, 33: 2, 34: 24, 35: 41, 36: 17, 37: 69, 38: 14, 39: 75, 40: 86, 41: 68, 42: 29, 43: 94, 45: 65, 46: 89, 47: 72, 48: 17, 49: 52, 50: 23, 1: 98, 2: 70, 4: 38, 5: 99, 6: 47, 7: 2, 8: 76, 9: 72, 10: 23}, 12: {15: 41, 17: 92, 18: 26, 20: 36, 21: 8, 22: 13, 23: 41, 24: 17, 25: 25, 26: 77, 27: 92, 28: 91, 29: 5, 30: 43, 31: 90, 33: 70, 35: 38, 36: 8, 37: 90, 38: 92, 41: 57, 42: 52, 43: 35, 44: 42, 45: 100, 46: 40, 47: 6, 49: 24, 1: 2, 2: 84, 3: 35, 4: 3, 5: 25, 7: 33, 8: 48, 9: 79, 10: 49, 11: 12}, 13: {14: 61, 15: 53, 16: 85, 17: 8, 18: 44, 19: 96, 20: 31, 21: 4, 22: 82, 23: 28, 24: 67, 25: 100, 26: 91, 27: 19, 28: 33, 29: 19, 30: 33, 31: 45, 32: 97, 33: 32, 34: 13, 35: 83, 36: 6, 37: 7, 38: 48, 39: 66, 40: 72, 41: 53, 44: 7, 45: 38, 47: 66, 48: 11, 49: 57, 50: 26, 1: 8, 2: 44, 3: 39, 4: 49, 5: 73, 6: 78, 7: 30, 8: 56, 9: 17, 10: 57}, 14: {15: 88, 16: 77, 18: 16, 19: 31, 20: 6, 21: 36, 22: 100, 23: 34, 24: 80, 25: 85, 26: 79, 27: 16, 28: 42, 32: 80, 33: 87, 34: 71, 35: 37, 36: 39, 37: 48, 38: 34, 39: 54, 40: 87, 41: 96, 42: 44, 43: 66, 45: 49, 46: 89, 47: 47, 48: 89, 49: 94, 50: 72, 1: 12, 3: 49, 4: 99, 5: 40, 7: 2, 8: 30, 9: 45, 10: 74, 13: 61}, 15: {16: 79, 19: 59, 21: 84, 24: 84, 25: 93, 26: 13, 27: 44, 28: 1, 29: 10, 30: 50, 31: 39, 32: 77, 33: 43, 34: 33, 35: 97, 36: 74, 37: 81, 38: 92, 39: 41, 40: 66, 41: 15, 42: 57, 43: 9, 44: 7, 45: 63, 46: 21, 47: 63, 48: 25, 49: 35, 50: 26, 1: 82, 2: 6, 3: 100, 4: 18, 5: 16, 6: 67, 7: 48, 8: 5, 9: 71, 11: 48, 12: 41, 13: 53, 14: 88}, 16: {18: 71, 19: 30, 21: 91, 23: 95, 24: 99, 25: 78, 26: 76, 30: 35, 32: 67, 34: 36, 35: 39, 38: 4, 39: 49, 40: 2, 41: 52, 42: 75, 43: 96, 45: 22, 47: 19, 49: 29, 50: 69, 1: 89, 4: 24, 6: 88, 7: 92, 9: 79, 10: 61, 11: 7, 13: 85, 14: 77, 15: 79}, 17: {18: 63, 19: 27, 20: 96, 21: 39, 22: 90, 23: 100, 24: 3, 25: 64, 26: 30, 27: 81, 28: 87, 29: 71, 32: 28, 35: 95, 38: 98, 39: 74, 41: 75, 42: 18, 43: 13, 44: 52, 45: 37, 46: 21, 47: 62, 50: 63, 1: 42, 2: 101, 3: 71, 4: 85, 5: 87, 6: 3, 7: 24, 8: 37, 11: 75, 12: 92, 13: 8}, 18: {19: 7, 20: 16, 21: 27, 22: 51, 23: 58, 24: 67, 25: 25, 26: 93, 27: 17, 28: 87, 29: 8, 32: 6, 34: 34, 36: 66, 37: 64, 39: 65, 40: 98, 41: 31, 42: 59, 43: 31, 44: 77, 45: 58, 46: 6, 47: 30, 48: 32, 49: 98, 1: 51, 2: 86, 3: 50, 6: 32, 7: 73, 8: 91, 9: 7, 10: 6, 12: 26, 13: 44, 14: 16, 16: 71, 17: 63}, 19: {20: 36, 21: 40, 22: 50, 23: 80, 24: 56, 26: 28, 27: 19, 28: 7, 29: 26, 31: 14, 34: 19, 35: 46, 36: 47, 37: 58, 40: 45, 41: 6, 42: 33, 45: 91, 46: 11, 47: 5, 48: 8, 1: 1, 2: 78, 4: 2, 5: 52, 6: 33, 7: 99, 8: 82, 9: 3, 11: 2, 13: 96, 14: 31, 15: 59, 16: 30, 17: 27, 18: 7}, 20: {21: 5, 22: 46, 24: 63, 25: 95, 26: 93, 27: 89, 28: 1, 29: 6, 30: 90, 31: 10, 32: 75, 33: 7, 34: 101, 36: 98, 37: 87, 38: 67, 39: 48, 40: 60, 41: 11, 42: 39, 43: 52, 45: 32, 46: 32, 49: 52, 50: 31, 1: 81, 2: 51, 3: 67, 4: 98, 7: 46, 8: 51, 9: 7, 11: 43, 12: 36, 13: 31, 14: 6, 17: 96, 18: 16, 19: 36}, 21: {22: 52, 23: 7, 24: 47, 25: 81, 27: 28, 28: 71, 30: 28, 32: 33, 34: 43, 35: 80, 36: 52, 37: 26, 38: 52, 39: 85, 40: 63, 42: 46, 43: 50, 44: 15, 45: 37, 46: 69, 47: 68, 48: 97, 49: 78, 50: 98, 1: 52, 3: 90, 5: 9, 6: 46, 7: 7, 9: 63, 12: 8, 13: 4, 14: 36, 15: 84, 16: 91, 17: 39, 18: 27, 19: 40, 20: 5}, 22: {23: 12, 24: 8, 26: 91, 27: 67, 28: 43, 30: 71, 31: 21, 32: 60, 33: 20, 35: 10, 36: 75, 37: 23, 39: 57, 40: 58, 41: 31, 42: 40, 43: 85, 44: 30, 47: 98, 48: 33, 49: 11, 1: 67, 2: 29, 3: 49, 5: 64, 6: 16, 7: 23, 8: 19, 9: 65, 10: 63, 11: 99, 12: 13, 13: 82, 14: 100, 17: 90, 18: 51, 19: 50, 20: 46, 21: 52}, 23: {24: 11, 25: 86, 26: 40, 27: 12, 29: 89, 30: 52, 32: 35, 33: 96, 34: 12, 35: 63, 36: 11, 37: 85, 38: 18, 39: 98, 40: 77, 41: 65, 42: 51, 43: 43, 45: 94, 46: 101, 47: 39, 48: 21, 49: 92, 50: 57, 1: 81, 2: 35, 4: 60, 5: 13, 6: 77, 10: 54, 12: 41, 13: 28, 14: 34, 16: 95, 17: 100, 18: 58, 19: 80, 21: 7, 22: 12}, 24: {25: 86, 26: 36, 27: 36, 29: 30, 30: 27, 31: 69, 32: 67, 33: 10, 36: 69, 37: 65, 39: 57, 40: 58, 41: 65, 42: 32, 43: 28, 44: 32, 45: 25, 46: 96, 47: 92, 48: 35, 49: 30, 50: 28, 1: 101, 2: 59, 5: 62, 7: 3, 8: 27, 10: 76, 11: 55, 12: 17, 13: 67, 14: 80, 15: 84, 16: 99, 17: 3, 18: 67, 19: 56, 20: 63, 21: 47, 22: 8, 23: 11}, 25: {27: 92, 28: 65, 30: 10, 31: 2, 32: 20, 33: 66, 35: 58, 36: 37, 37: 13, 38: 84, 39: 56, 40: 80, 41: 27, 42: 18, 43: 19, 44: 33, 45: 15, 46: 60, 47: 101, 1: 78, 2: 23, 3: 51, 4: 39, 5: 93, 7: 19, 8: 98, 9: 37, 10: 51, 11: 54, 12: 25, 13: 100, 14: 85, 15: 93, 16: 78, 17: 64, 18: 25, 20: 95, 21: 81, 23: 86, 24: 86}, 26: {27: 22, 28: 17, 29: 82, 30: 83, 31: 4, 32: 57, 33: 13, 34: 77, 36: 89, 37: 55, 38: 28, 39: 42, 41: 66, 42: 1, 45: 64, 47: 77, 48: 4, 49: 101, 1: 91, 2: 18, 3: 53, 6: 8, 7: 5, 8: 53, 9: 87, 10: 86, 11: 71, 12: 77, 13: 91, 14: 79, 15: 13, 16: 76, 17: 30, 18: 93, 19: 28, 20: 93, 22: 91, 23: 40, 24: 36}, 27: {29: 52, 32: 82, 33: 34, 34: 97, 35: 74, 36: 80, 37: 6, 38: 28, 39: 69, 40: 41, 42: 66, 43: 30, 44: 77, 45: 100, 46: 74, 47: 50, 49: 71, 50: 74, 2: 89, 3: 17, 4: 37, 6: 82, 8: 92, 9: 99, 10: 27, 11: 33, 12: 92, 13: 19, 14: 16, 15: 44, 17: 81, 18: 17, 19: 19, 20: 89, 21: 28, 22: 67, 23: 12, 24: 36, 25: 92, 26: 22}, 28: {29: 1, 30: 43, 32: 35, 33: 79, 34: 38, 35: 43, 36: 13, 37: 36, 38: 90, 39: 52, 40: 82, 41: 61, 43: 83, 44: 59, 46: 73, 47: 23, 48: 13, 49: 41, 1: 76, 2: 8, 3: 63, 4: 62, 5: 92, 7: 100, 8: 36, 9: 25, 10: 37, 11: 84, 12: 91, 13: 33, 14: 42, 15: 1, 17: 87, 18: 87, 19: 7, 20: 1, 21: 71, 22: 43, 25: 65, 26: 17}, 29: {31: 60, 32: 90, 33: 14, 34: 91, 36: 23, 39: 1, 40: 85, 41: 18, 42: 41, 43: 85, 44: 54, 45: 98, 46: 4, 47: 69, 48: 58, 49: 89, 50: 64, 2: 56, 3: 64, 4: 94, 8: 61, 10: 67, 11: 45, 12: 5, 13: 19, 15: 10, 17: 71, 18: 8, 19: 26, 20: 6, 23: 89, 24: 30, 26: 82, 27: 52, 28: 1}, 30: {31: 68, 32: 6, 33: 21, 34: 54, 35: 99, 36: 32, 37: 35, 39: 65, 40: 71, 41: 12, 42: 66, 43: 3, 44: 65, 45: 83, 46: 63, 47: 55, 48: 90, 49: 74, 50: 27, 1: 41, 3: 34, 4: 86, 6: 62, 7: 87, 8: 21, 9: 98, 10: 74, 12: 43, 13: 33, 15: 50, 16: 35, 20: 90, 21: 28, 22: 71, 23: 52, 24: 27, 25: 10, 26: 83, 28: 43}, 31: {32: 11, 33: 59, 34: 95, 35: 2, 36: 95, 37: 87, 38: 75, 39: 38, 41: 36, 42: 75, 43: 62, 45: 97, 46: 31, 47: 60, 49: 38, 50: 22, 1: 18, 2: 34, 3: 101, 4: 26, 5: 42, 7: 23, 8: 49, 11: 22, 12: 90, 13: 45, 15: 39, 19: 14, 20: 10, 22: 21, 24: 69, 25: 2, 26: 4, 29: 60, 30: 68}, 32: {34: 59, 35: 13, 36: 82, 37: 48, 38: 84, 39: 10, 40: 58, 41: 27, 42: 7, 43: 77, 45: 13, 47: 28, 48: 17, 49: 38, 50: 60, 1: 80, 2: 27, 4: 17, 5: 78, 6: 38, 7: 90, 8: 70, 9: 25, 10: 20, 11: 75, 13: 97, 14: 80, 15: 77, 16: 67, 17: 28, 18: 6, 20: 75, 21: 33, 22: 60, 23: 35, 24: 67, 25: 20, 26: 57, 27: 82, 28: 35, 29: 90, 30: 6, 31: 11}, 33: {36: 64, 37: 30, 38: 58, 39: 26, 40: 48, 41: 66, 43: 13, 44: 88, 45: 53, 46: 92, 50: 15, 1: 72, 2: 56, 3: 99, 4: 16, 5: 100, 6: 2, 7: 92, 9: 41, 10: 2, 11: 2, 12: 70, 13: 32, 14: 87, 15: 43, 20: 7, 22: 20, 23: 96, 24: 10, 25: 66, 26: 13, 27: 34, 28: 79, 29: 14, 30: 21, 31: 59}, 34: {35: 83, 37: 32, 38: 66, 39: 8, 40: 38, 41: 99, 42: 54, 43: 15, 44: 99, 45: 42, 46: 16, 47: 55, 49: 46, 50: 77, 1: 57, 2: 83, 4: 43, 5: 31, 6: 63, 7: 21, 8: 85, 9: 92, 10: 40, 11: 24, 13: 13, 14: 71, 15: 33, 16: 36, 18: 34, 19: 19, 20: 101, 21: 43, 23: 12, 26: 77, 27: 97, 28: 38, 29: 91, 30: 54, 31: 95, 32: 59}, 35: {36: 55, 37: 19, 39: 12, 41: 83, 42: 20, 43: 44, 44: 40, 45: 72, 46: 63, 48: 50, 49: 79, 2: 34, 3: 101, 4: 58, 5: 11, 7: 68, 8: 39, 11: 41, 12: 38, 13: 83, 14: 37, 15: 97, 16: 39, 17: 95, 19: 46, 21: 80, 22: 10, 23: 63, 25: 58, 27: 74, 28: 43, 30: 99, 31: 2, 32: 13, 34: 83}, 36: {37: 25, 38: 10, 39: 45, 40: 52, 42: 89, 43: 83, 44: 80, 45: 41, 46: 91, 47: 11, 50: 47, 1: 57, 3: 67, 4: 9, 6: 67, 8: 71, 9: 59, 10: 7, 11: 17, 12: 8, 13: 6, 14: 39, 15: 74, 18: 66, 19: 47, 20: 98, 21: 52, 22: 75, 23: 11, 24: 69, 25: 37, 26: 89, 27: 80, 28: 13, 29: 23, 30: 32, 31: 95, 32: 82, 33: 64, 35: 55}, 37: {38: 4, 39: 24, 40: 90, 41: 35, 42: 90, 43: 81, 45: 35, 46: 100, 48: 34, 49: 24, 50: 44, 1: 47, 2: 52, 3: 37, 4: 71, 6: 92, 7: 80, 8: 20, 9: 6, 10: 32, 11: 69, 12: 90, 13: 7, 14: 48, 15: 81, 18: 64, 19: 58, 20: 87, 21: 26, 22: 23, 23: 85, 24: 65, 25: 13, 26: 55, 27: 6, 28: 36, 30: 35, 31: 87, 32: 48, 33: 30, 34: 32, 35: 19, 36: 25}, 38: {39: 40, 41: 1, 42: 41, 44: 17, 46: 78, 48: 97, 49: 83, 50: 4, 1: 24, 2: 69, 3: 82, 4: 91, 5: 64, 8: 15, 9: 34, 11: 14, 12: 92, 13: 48, 14: 34, 15: 92, 16: 4, 17: 98, 20: 67, 21: 52, 23: 18, 25: 84, 26: 28, 27: 28, 28: 90, 31: 75, 32: 84, 33: 58, 34: 66, 36: 10, 37: 4}, 39: {40: 65, 41: 52, 42: 95, 43: 93, 44: 11, 45: 16, 46: 88, 47: 33, 48: 70, 49: 62, 2: 80, 3: 65, 5: 88, 6: 41, 7: 9, 8: 96, 9: 29, 11: 75, 13: 66, 14: 54, 15: 41, 16: 49, 17: 74, 18: 65, 20: 48, 21: 85, 22: 57, 23: 98, 24: 57, 25: 56, 26: 42, 27: 69, 28: 52, 29: 1, 30: 65, 31: 38, 32: 10, 33: 26, 34: 8, 35: 12, 36: 45, 37: 24, 38: 40}, 40: {41: 11, 42: 86, 43: 31, 44: 85, 45: 70, 46: 17, 48: 53, 49: 28, 1: 67, 2: 85, 4: 21, 5: 81, 6: 75, 8: 96, 10: 97, 11: 86, 13: 72, 14: 87, 15: 66, 16: 2, 18: 98, 19: 45, 20: 60, 21: 63, 22: 58, 23: 77, 24: 58, 25: 80, 27: 41, 28: 82, 29: 85, 30: 71, 32: 58, 33: 48, 34: 38, 36: 52, 37: 90, 39: 65}, 41: {42: 86, 43: 48, 44: 90, 45: 29, 46: 89, 47: 88, 48: 45, 2: 61, 3: 95, 4: 97, 5: 86, 8: 67, 11: 68, 12: 57, 13: 53, 14: 96, 15: 15, 16: 52, 17: 75, 18: 31, 19: 6, 20: 11, 22: 31, 23: 65, 24: 65, 25: 27, 26: 66, 28: 61, 29: 18, 30: 12, 31: 36, 32: 27, 33: 66, 34: 99, 35: 83, 37: 35, 38: 1, 39: 52, 40: 11}, 42: {43: 14, 44: 23, 45: 86, 46: 93, 47: 69, 48: 91, 49: 46, 50: 98, 2: 65, 3: 17, 5: 13, 7: 54, 9: 49, 10: 36, 11: 29, 12: 52, 14: 44, 15: 57, 16: 75, 17: 18, 18: 59, 19: 33, 20: 39, 21: 46, 22: 40, 23: 51, 24: 32, 25: 18, 26: 1, 27: 66, 29: 41, 30: 66, 31: 75, 32: 7, 34: 54, 35: 20, 36: 89, 37: 90, 38: 41, 39: 95, 40: 86, 41: 86}, 43: {44: 98, 45: 24, 47: 54, 1: 96, 2: 81, 3: 11, 4: 21, 6: 92, 7: 34, 8: 52, 9: 45, 10: 61, 11: 94, 12: 35, 14: 66, 15: 9, 16: 96, 17: 13, 18: 31, 20: 52, 21: 50, 22: 85, 23: 43, 24: 28, 25: 19, 27: 30, 28: 83, 29: 85, 30: 3, 31: 62, 32: 77, 33: 13, 34: 15, 35: 44, 36: 83, 37: 81, 39: 93, 40: 31, 41: 48, 42: 14}, 44: {45: 5, 46: 73, 49: 37, 50: 87, 1: 7, 2: 68, 4: 61, 6: 2, 7: 6, 8: 98, 9: 86, 10: 21, 12: 42, 13: 7, 15: 7, 17: 52, 18: 77, 21: 15, 22: 30, 24: 32, 25: 33, 27: 77, 28: 59, 29: 54, 30: 65, 33: 88, 34: 99, 35: 40, 36: 80, 38: 17, 39: 11, 40: 85, 41: 90, 42: 23, 43: 98}, 45: {46: 75, 47: 77, 48: 24, 49: 67, 50: 45, 1: 69, 2: 15, 3: 12, 5: 46, 7: 9, 8: 88, 9: 100, 11: 65, 12: 100, 13: 38, 14: 49, 15: 63, 16: 22, 17: 37, 18: 58, 19: 91, 20: 32, 21: 37, 23: 94, 24: 25, 25: 15, 26: 64, 27: 100, 29: 98, 30: 83, 31: 97, 32: 13, 33: 53, 34: 42, 35: 72, 36: 41, 37: 35, 39: 16, 40: 70, 41: 29, 42: 86, 43: 24, 44: 5}, 46: {47: 82, 48: 22, 49: 42, 1: 16, 2: 56, 3: 7, 4: 9, 5: 37, 6: 12, 7: 31, 8: 37, 9: 21, 10: 91, 11: 89, 12: 40, 14: 89, 15: 21, 17: 21, 18: 6, 19: 11, 20: 32, 21: 69, 23: 101, 24: 96, 25: 60, 27: 74, 28: 73, 29: 4, 30: 63, 31: 31, 33: 92, 34: 16, 35: 63, 36: 91, 37: 100, 38: 78, 39: 88, 40: 17, 41: 89, 42: 93, 44: 73, 45: 75}, 47: {48: 39, 49: 2, 1: 35, 2: 91, 4: 20, 5: 50, 6: 63, 7: 8, 8: 25, 9: 2, 10: 57, 11: 72, 12: 6, 13: 66, 14: 47, 15: 63, 16: 19, 17: 62, 18: 30, 19: 5, 21: 68, 22: 98, 23: 39, 24: 92, 25: 101, 26: 77, 27: 50, 28: 23, 29: 69, 30: 55, 31: 60, 32: 28, 34: 55, 36: 11, 39: 33, 41: 88, 42: 69, 43: 54, 45: 77, 46: 82}, 48: {49: 57, 50: 37, 2: 16, 3: 90, 4: 28, 5: 68, 6: 9, 7: 45, 8: 70, 11: 17, 13: 11, 14: 89, 15: 25, 18: 32, 19: 8, 21: 97, 22: 33, 23: 21, 24: 35, 26: 4, 28: 13, 29: 58, 30: 90, 32: 17, 35: 50, 37: 34, 38: 97, 39: 70, 40: 53, 41: 45, 42: 91, 45: 24, 46: 22, 47: 39}, 49: {50: 25, 1: 52, 2: 81, 3: 59, 4: 93, 7: 81, 8: 21, 9: 8, 10: 27, 11: 52, 12: 24, 13: 57, 14: 94, 15: 35, 16: 29, 18: 98, 20: 52, 21: 78, 22: 11, 23: 92, 24: 30, 26: 101, 27: 71, 28: 41, 29: 89, 30: 74, 31: 38, 32: 38, 34: 46, 35: 79, 37: 24, 38: 83, 39: 62, 40: 28, 42: 46, 44: 37, 45: 67, 46: 42, 47: 2, 48: 57}, 50: {1: 61, 3: 69, 4: 35, 7: 17, 8: 78, 9: 37, 10: 81, 11: 23, 13: 26, 14: 72, 15: 26, 16: 69, 17: 63, 20: 31, 21: 98, 23: 57, 24: 28, 27: 74, 29: 64, 30: 27, 31: 22, 32: 60, 33: 15, 34: 77, 36: 47, 37: 44, 38: 4, 42: 98, 44: 87, 45: 45, 48: 37, 49: 25}}\n"
     ]
    }
   ],
   "source": [
    "# Quick test of the intlaization of the graph\n",
    "\n",
    "# Number of SDs\n",
    "n = 50\n",
    "\n",
    "# Number of VBSs\n",
    "k = 5\n",
    "\n",
    "# Communication probability\n",
    "p = 0.8\n",
    "# Create a array with n nodes from 2 to n\n",
    "nodes = range(1,n+1)\n",
    "\n",
    " \n",
    "init_graph = {}\n",
    "for node in nodes:\n",
    "    init_graph[node] = {}\n",
    "\n",
    "# Randomly add edges with random weights\n",
    "for i in nodes:\n",
    "    for j in range(i+1, n+1):\n",
    "        if random.random() < p:\n",
    "            init_graph[i][j] = random.randint(1, 101)\n",
    "        \n",
    "           \n",
    "S=[]\n",
    "# Randomly select k VBSs\n",
    "while len(S)<k:\n",
    "    s = random.randint(1, n+1)\n",
    "    if s not in S:\n",
    "        S.append(s)\n",
    "    \n",
    "graph = Graph(nodes, init_graph)\n",
    "\n",
    "# Calculate the capacity of each server\n",
    "c = {v: n//k for v in S}\n",
    "\n",
    "#sum of the capacity of the VBSs\n",
    "\n",
    "\n",
    "\n",
    "while sum(c.values()) <n:\n",
    "    c[random.choice(list(S))]+=1\n",
    "    \n",
    "    \n",
    "print(c)\n",
    "print (init_graph)\n"
   ]
  },
  {
   "cell_type": "code",
   "execution_count": 33,
   "metadata": {},
   "outputs": [
    {
     "name": "stdout",
     "output_type": "stream",
     "text": [
      "K:  10 , p:  0.05\n"
     ]
    },
    {
     "name": "stderr",
     "output_type": "stream",
     "text": [
      "100%|██████████| 50/50 [32:11<00:00, 38.63s/it]\n"
     ]
    },
    {
     "name": "stdout",
     "output_type": "stream",
     "text": [
      "K:  10 , p:  0.1\n"
     ]
    },
    {
     "name": "stderr",
     "output_type": "stream",
     "text": [
      "100%|██████████| 50/50 [33:18<00:00, 39.96s/it]\n"
     ]
    },
    {
     "name": "stdout",
     "output_type": "stream",
     "text": [
      "K:  10 , p:  0.15\n"
     ]
    },
    {
     "name": "stderr",
     "output_type": "stream",
     "text": [
      "100%|██████████| 50/50 [36:39<00:00, 43.99s/it]\n"
     ]
    },
    {
     "name": "stdout",
     "output_type": "stream",
     "text": [
      "K:  10 , p:  0.2\n"
     ]
    },
    {
     "name": "stderr",
     "output_type": "stream",
     "text": [
      "100%|██████████| 50/50 [36:51<00:00, 44.23s/it]\n"
     ]
    },
    {
     "name": "stdout",
     "output_type": "stream",
     "text": [
      "K:  10 , p:  0.25\n"
     ]
    },
    {
     "name": "stderr",
     "output_type": "stream",
     "text": [
      "100%|██████████| 50/50 [50:56<00:00, 61.14s/it]   \n"
     ]
    },
    {
     "name": "stdout",
     "output_type": "stream",
     "text": [
      "K:  10 , p:  0.3\n"
     ]
    },
    {
     "name": "stderr",
     "output_type": "stream",
     "text": [
      "100%|██████████| 50/50 [42:01<00:00, 50.44s/it]\n"
     ]
    },
    {
     "name": "stdout",
     "output_type": "stream",
     "text": [
      "K:  10 , p:  0.35\n"
     ]
    },
    {
     "name": "stderr",
     "output_type": "stream",
     "text": [
      "100%|██████████| 50/50 [45:54<00:00, 55.09s/it]\n"
     ]
    },
    {
     "name": "stdout",
     "output_type": "stream",
     "text": [
      "K:  10 , p:  0.4\n"
     ]
    },
    {
     "name": "stderr",
     "output_type": "stream",
     "text": [
      "100%|██████████| 50/50 [46:19<00:00, 55.60s/it]\n"
     ]
    },
    {
     "name": "stdout",
     "output_type": "stream",
     "text": [
      "K:  10 , p:  0.45\n"
     ]
    },
    {
     "name": "stderr",
     "output_type": "stream",
     "text": [
      "100%|██████████| 50/50 [51:10<00:00, 61.41s/it] \n"
     ]
    },
    {
     "name": "stdout",
     "output_type": "stream",
     "text": [
      "K:  10 , p:  0.5\n"
     ]
    },
    {
     "name": "stderr",
     "output_type": "stream",
     "text": [
      "100%|██████████| 50/50 [52:56<00:00, 63.52s/it]\n"
     ]
    },
    {
     "name": "stdout",
     "output_type": "stream",
     "text": [
      "K:  15 , p:  0.05\n"
     ]
    },
    {
     "name": "stderr",
     "output_type": "stream",
     "text": [
      "100%|██████████| 50/50 [27:47<00:00, 33.35s/it]\n"
     ]
    },
    {
     "name": "stdout",
     "output_type": "stream",
     "text": [
      "K:  15 , p:  0.1\n"
     ]
    },
    {
     "name": "stderr",
     "output_type": "stream",
     "text": [
      "100%|██████████| 50/50 [28:38<00:00, 34.37s/it]\n"
     ]
    },
    {
     "name": "stdout",
     "output_type": "stream",
     "text": [
      "K:  15 , p:  0.15\n"
     ]
    },
    {
     "name": "stderr",
     "output_type": "stream",
     "text": [
      "100%|██████████| 50/50 [29:44<00:00, 35.70s/it]\n"
     ]
    },
    {
     "name": "stdout",
     "output_type": "stream",
     "text": [
      "K:  15 , p:  0.2\n"
     ]
    },
    {
     "name": "stderr",
     "output_type": "stream",
     "text": [
      "100%|██████████| 50/50 [34:25<00:00, 41.30s/it]\n"
     ]
    },
    {
     "name": "stdout",
     "output_type": "stream",
     "text": [
      "K:  15 , p:  0.25\n"
     ]
    },
    {
     "name": "stderr",
     "output_type": "stream",
     "text": [
      "100%|██████████| 50/50 [36:15<00:00, 43.50s/it]\n"
     ]
    },
    {
     "name": "stdout",
     "output_type": "stream",
     "text": [
      "K:  15 , p:  0.3\n"
     ]
    },
    {
     "name": "stderr",
     "output_type": "stream",
     "text": [
      "100%|██████████| 50/50 [39:10<00:00, 47.00s/it]\n"
     ]
    },
    {
     "name": "stdout",
     "output_type": "stream",
     "text": [
      "K:  15 , p:  0.35\n"
     ]
    },
    {
     "name": "stderr",
     "output_type": "stream",
     "text": [
      "100%|██████████| 50/50 [42:05<00:00, 50.51s/it]\n"
     ]
    },
    {
     "name": "stdout",
     "output_type": "stream",
     "text": [
      "K:  15 , p:  0.4\n"
     ]
    },
    {
     "name": "stderr",
     "output_type": "stream",
     "text": [
      "100%|██████████| 50/50 [49:04<00:00, 58.88s/it]\n"
     ]
    },
    {
     "name": "stdout",
     "output_type": "stream",
     "text": [
      "K:  15 , p:  0.45\n"
     ]
    },
    {
     "name": "stderr",
     "output_type": "stream",
     "text": [
      "100%|██████████| 50/50 [49:00<00:00, 58.82s/it]\n"
     ]
    },
    {
     "name": "stdout",
     "output_type": "stream",
     "text": [
      "K:  15 , p:  0.5\n"
     ]
    },
    {
     "name": "stderr",
     "output_type": "stream",
     "text": [
      "100%|██████████| 50/50 [53:33<00:00, 64.27s/it]\n"
     ]
    },
    {
     "name": "stdout",
     "output_type": "stream",
     "text": [
      "K:  20 , p:  0.05\n"
     ]
    },
    {
     "name": "stderr",
     "output_type": "stream",
     "text": [
      "100%|██████████| 50/50 [27:18<00:00, 32.78s/it]\n"
     ]
    },
    {
     "name": "stdout",
     "output_type": "stream",
     "text": [
      "K:  20 , p:  0.1\n"
     ]
    },
    {
     "name": "stderr",
     "output_type": "stream",
     "text": [
      "100%|██████████| 50/50 [28:19<00:00, 33.99s/it]\n"
     ]
    },
    {
     "name": "stdout",
     "output_type": "stream",
     "text": [
      "K:  20 , p:  0.15\n"
     ]
    },
    {
     "name": "stderr",
     "output_type": "stream",
     "text": [
      "100%|██████████| 50/50 [32:17<00:00, 38.75s/it]\n"
     ]
    },
    {
     "name": "stdout",
     "output_type": "stream",
     "text": [
      "K:  20 , p:  0.2\n"
     ]
    },
    {
     "name": "stderr",
     "output_type": "stream",
     "text": [
      "100%|██████████| 50/50 [34:38<00:00, 41.58s/it]\n"
     ]
    },
    {
     "name": "stdout",
     "output_type": "stream",
     "text": [
      "K:  20 , p:  0.25\n"
     ]
    },
    {
     "name": "stderr",
     "output_type": "stream",
     "text": [
      "100%|██████████| 50/50 [36:35<00:00, 43.90s/it]\n"
     ]
    },
    {
     "name": "stdout",
     "output_type": "stream",
     "text": [
      "K:  20 , p:  0.3\n"
     ]
    },
    {
     "name": "stderr",
     "output_type": "stream",
     "text": [
      "100%|██████████| 50/50 [40:30<00:00, 48.62s/it]\n"
     ]
    },
    {
     "name": "stdout",
     "output_type": "stream",
     "text": [
      "K:  20 , p:  0.35\n"
     ]
    },
    {
     "name": "stderr",
     "output_type": "stream",
     "text": [
      "100%|██████████| 50/50 [42:09<00:00, 50.58s/it]\n"
     ]
    },
    {
     "name": "stdout",
     "output_type": "stream",
     "text": [
      "K:  20 , p:  0.4\n"
     ]
    },
    {
     "name": "stderr",
     "output_type": "stream",
     "text": [
      "100%|██████████| 50/50 [44:40<00:00, 53.61s/it]\n"
     ]
    },
    {
     "name": "stdout",
     "output_type": "stream",
     "text": [
      "K:  20 , p:  0.45\n"
     ]
    },
    {
     "name": "stderr",
     "output_type": "stream",
     "text": [
      "100%|██████████| 50/50 [47:42<00:00, 57.26s/it]\n"
     ]
    },
    {
     "name": "stdout",
     "output_type": "stream",
     "text": [
      "K:  20 , p:  0.5\n"
     ]
    },
    {
     "name": "stderr",
     "output_type": "stream",
     "text": [
      "100%|██████████| 50/50 [50:15<00:00, 60.30s/it]\n"
     ]
    },
    {
     "name": "stdout",
     "output_type": "stream",
     "text": [
      "K:  25 , p:  0.05\n"
     ]
    },
    {
     "name": "stderr",
     "output_type": "stream",
     "text": [
      "100%|██████████| 50/50 [28:29<00:00, 34.20s/it]\n"
     ]
    },
    {
     "name": "stdout",
     "output_type": "stream",
     "text": [
      "K:  25 , p:  0.1\n"
     ]
    },
    {
     "name": "stderr",
     "output_type": "stream",
     "text": [
      "100%|██████████| 50/50 [27:39<00:00, 33.19s/it]\n"
     ]
    },
    {
     "name": "stdout",
     "output_type": "stream",
     "text": [
      "K:  25 , p:  0.15\n"
     ]
    },
    {
     "name": "stderr",
     "output_type": "stream",
     "text": [
      "100%|██████████| 50/50 [32:29<00:00, 38.99s/it]\n"
     ]
    },
    {
     "name": "stdout",
     "output_type": "stream",
     "text": [
      "K:  25 , p:  0.2\n"
     ]
    },
    {
     "name": "stderr",
     "output_type": "stream",
     "text": [
      "100%|██████████| 50/50 [33:19<00:00, 40.00s/it]\n"
     ]
    },
    {
     "name": "stdout",
     "output_type": "stream",
     "text": [
      "K:  25 , p:  0.25\n"
     ]
    },
    {
     "name": "stderr",
     "output_type": "stream",
     "text": [
      "100%|██████████| 50/50 [36:35<00:00, 43.91s/it]\n"
     ]
    },
    {
     "name": "stdout",
     "output_type": "stream",
     "text": [
      "K:  25 , p:  0.3\n"
     ]
    },
    {
     "name": "stderr",
     "output_type": "stream",
     "text": [
      "100%|██████████| 50/50 [39:51<00:00, 47.82s/it]\n"
     ]
    },
    {
     "name": "stdout",
     "output_type": "stream",
     "text": [
      "K:  25 , p:  0.35\n"
     ]
    },
    {
     "name": "stderr",
     "output_type": "stream",
     "text": [
      "100%|██████████| 50/50 [46:48<00:00, 56.18s/it]\n"
     ]
    },
    {
     "name": "stdout",
     "output_type": "stream",
     "text": [
      "K:  25 , p:  0.4\n"
     ]
    },
    {
     "name": "stderr",
     "output_type": "stream",
     "text": [
      "100%|██████████| 50/50 [43:55<00:00, 52.72s/it]\n"
     ]
    },
    {
     "name": "stdout",
     "output_type": "stream",
     "text": [
      "K:  25 , p:  0.45\n"
     ]
    },
    {
     "name": "stderr",
     "output_type": "stream",
     "text": [
      "100%|██████████| 50/50 [48:13<00:00, 57.88s/it]\n"
     ]
    },
    {
     "name": "stdout",
     "output_type": "stream",
     "text": [
      "K:  25 , p:  0.5\n"
     ]
    },
    {
     "name": "stderr",
     "output_type": "stream",
     "text": [
      "100%|██████████| 50/50 [51:31<00:00, 61.84s/it]\n"
     ]
    },
    {
     "data": {
      "image/png": "[encoded data removed]",
      "text/plain": [
       "<Figure size 1728x864 with 8 Axes>"
      ]
     },
     "metadata": {
      "needs_background": "light"
     },
     "output_type": "display_data"
    }
   ],
   "source": [
    "# senario 1  test different values of p for D_SDUP and P_SDUP algorithms \n",
    "\n",
    "n = 200\n",
    "K_values = [10, 15, 20, 25]\n",
    "p_values = [0.05, 0.10, 0.15, 0.2, 0.25, 0.3, 0.35, 0.4, 0.45, 0.50]\n",
    "fig, axs = plt.subplots(2, len(K_values), figsize=(6*len(K_values), 12))\n",
    "\n",
    "for idx, k in enumerate(K_values):\n",
    "    results_D = []\n",
    "    results_P = []\n",
    "    times_D = []\n",
    "    times_P = []\n",
    "    \n",
    "    for p in p_values:\n",
    "        \n",
    "        print(\"K: \",k,\", p: \", p)\n",
    "        mean_cost_D = 0\n",
    "        mean_cost_P = 0\n",
    "        time_taken_D = 0\n",
    "        time_taken_P =0\n",
    "        for _ in tqdm(range(100)):\n",
    "            \n",
    "            \n",
    "            nodes = range(1,n+1)   \n",
    "            init_graph = {}\n",
    "            for node in nodes:\n",
    "                init_graph[node] = {}\n",
    "            for i in nodes:\n",
    "                # Select two different random nodes for edges\n",
    "                random_nodes = random.sample(nodes, 1)\n",
    "                \n",
    "                # Ensure the random nodes are not the same as the current node\n",
    "                while i in random_nodes:\n",
    "                    random_nodes = random.sample(nodes, 1)\n",
    "                \n",
    "                # Add the edges\n",
    "                init_graph[i][random_nodes[0]] = random.randint(1, 100)\n",
    "                \n",
    "\n",
    "\n",
    "            # Randomly add edges with random weights\n",
    "            for i in nodes:\n",
    "                for j in range(i+1, n+1):\n",
    "                    if random.random() < p:\n",
    "                        init_graph[i][j] = random.randint(1, 100)\n",
    "     \n",
    "            S=[]\n",
    "            # Randomly select k VBSs\n",
    "            while len(S)<k:\n",
    "                s = random.randint(1, n)\n",
    "                if s not in S:\n",
    "                    S.append(s)\n",
    "                \n",
    "            graph = Graph(nodes, init_graph)\n",
    "            c = {v: n//k for v in S}\n",
    "            while sum(c.values()) <n:\n",
    "                c[random.choice(list(S))]+=1\n",
    "           \n",
    "            \n",
    "        \n",
    "            \n",
    "\n",
    "            start_time_D = time.time()\n",
    "            T_D = D_SDUP(graph, S, c)\n",
    "           \n",
    "            mean_cost_D += total_cost(T_D,S)\n",
    "            end_time_D = time.time()  \n",
    "            time_taken_D = end_time_D - start_time_D +time_taken_D\n",
    "            \n",
    "\n",
    "\n",
    "            start_time_P = time.time()\n",
    "            T_P = P_SDUP(graph, S, c)\n",
    "          \n",
    "            mean_cost_P += total_cost(T_P,S)\n",
    "            end_time_P = time.time()\n",
    "            time_taken_P = end_time_P - start_time_P +time_taken_P\n",
    "          \n",
    "            \n",
    "        \n",
    "        mean_cost_D /= 100\n",
    "        time_taken_D /=100\n",
    "        results_D.append(mean_cost_D)\n",
    "        times_D.append(time_taken_D)\n",
    "        mean_cost_P /= 100\n",
    "        time_taken_P /=100\n",
    "        results_P.append(mean_cost_P)\n",
    "        times_P.append(time_taken_P)    \n",
    "\n",
    "    \n",
    "    axs[0, idx].plot(p_values, results_D, label=f'D_SDUP k={k}', linestyle='--', color='red')\n",
    "    axs[0, idx].scatter(p_values, results_D, color='red')\n",
    "    axs[0, idx].plot(p_values, results_P, label=f'P_SDUP k={k}', linestyle='-', color='blue')\n",
    "    axs[0, idx].scatter(p_values, results_P, color='blue')\n",
    "    axs[0, idx].set_xlabel('p values')\n",
    "    axs[0, idx].set_ylabel('Mean cost')\n",
    "    axs[0, idx].legend()\n",
    "    axs[0, idx].set_title(f'k = {k}')\n",
    "\n",
    "\n",
    "    axs[1, idx].plot(p_values, times_D, label=f'D_SDUP k={k}', linestyle='--', color='red')\n",
    "    axs[1, idx].scatter(p_values, times_D, color='red')\n",
    "    axs[1, idx].plot(p_values, times_P, label=f'P_SDUP k={k}', linestyle='-', color='blue')\n",
    "    axs[1, idx].scatter(p_values, times_P, color='blue')\n",
    "    axs[1, idx].set_xlabel('p values')\n",
    "    axs[1, idx].set_ylabel('Time (seconds)')\n",
    "    axs[1, idx].legend()\n",
    "    axs[1, idx].set_title(f'Time for k = {k}')\n",
    "   \n",
    "plt.tight_layout()\n",
    "plt.show()"
   ]
  }
 ],
 "metadata": {
  "kernelspec": {
   "display_name": "tf_gpu",
   "language": "python",
   "name": "python3"
  },
  "language_info": {
   "codemirror_mode": {
    "name": "ipython",
    "version": 3
   },
   "file_extension": ".py",
   "mimetype": "text/x-python",
   "name": "python",
   "nbconvert_exporter": "python",
   "pygments_lexer": "ipython3",
   "version": "3.9.12"
  }
 },
 "nbformat": 4,
 "nbformat_minor": 2
}
